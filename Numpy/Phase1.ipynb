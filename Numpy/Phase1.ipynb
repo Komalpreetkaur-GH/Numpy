{
 "cells": [
  {
   "cell_type": "markdown",
   "id": "88016502",
   "metadata": {},
   "source": [
    "# NUMPY"
   ]
  },
  {
   "cell_type": "code",
   "execution_count": 9,
   "id": "61ee1633",
   "metadata": {},
   "outputs": [
    {
     "name": "stdout",
     "output_type": "stream",
     "text": [
      "1d array:  [1 2 3 4]\n"
     ]
    }
   ],
   "source": [
    "import numpy as np\n",
    "\n",
    "arr1=np.array([1,2,3,4])\n",
    "print(\"1d array: \",arr1)"
   ]
  },
  {
   "cell_type": "code",
   "execution_count": 10,
   "id": "c27d9a58",
   "metadata": {},
   "outputs": [
    {
     "name": "stdout",
     "output_type": "stream",
     "text": [
      "2D array: [[1 2 3]\n",
      " [4 5 6]]\n"
     ]
    }
   ],
   "source": [
    "arr2=np.array([[1,2,3],[4,5,6]])\n",
    "print(\"2D array:\",arr2)"
   ]
  },
  {
   "cell_type": "markdown",
   "id": "79538d41",
   "metadata": {},
   "source": [
    "## list vs numpy"
   ]
  },
  {
   "cell_type": "code",
   "execution_count": 11,
   "id": "1972d189",
   "metadata": {},
   "outputs": [
    {
     "name": "stdout",
     "output_type": "stream",
     "text": [
      "[1, 2, 3, 1, 2, 3]\n"
     ]
    }
   ],
   "source": [
    "list1=[1,2,3]\n",
    "print(list1*2)"
   ]
  },
  {
   "cell_type": "code",
   "execution_count": 12,
   "id": "91fae5c2",
   "metadata": {},
   "outputs": [
    {
     "name": "stdout",
     "output_type": "stream",
     "text": [
      "[2 4 6]\n"
     ]
    }
   ],
   "source": [
    "arr1=np.array([1,2,3])\n",
    "print(arr1*2)      #element wise multiplication"
   ]
  },
  {
   "cell_type": "markdown",
   "id": "f4208227",
   "metadata": {},
   "source": [
    "### CREATING ARRAY FROM SCRATCH"
   ]
  },
  {
   "cell_type": "code",
   "execution_count": 14,
   "id": "af5a9746",
   "metadata": {},
   "outputs": [
    {
     "data": {
      "text/plain": [
       "array([[0., 0., 0., 0.],\n",
       "       [0., 0., 0., 0.],\n",
       "       [0., 0., 0., 0.]])"
      ]
     },
     "execution_count": 14,
     "metadata": {},
     "output_type": "execute_result"
    }
   ],
   "source": [
    "zeros1=np.zeros((3,4))\n",
    "zeros1"
   ]
  },
  {
   "cell_type": "code",
   "execution_count": 16,
   "id": "df11f545",
   "metadata": {},
   "outputs": [
    {
     "data": {
      "text/plain": [
       "array([[1., 1., 1.],\n",
       "       [1., 1., 1.]])"
      ]
     },
     "execution_count": 16,
     "metadata": {},
     "output_type": "execute_result"
    }
   ],
   "source": [
    "a1=np.ones((2,3))\n",
    "a1"
   ]
  },
  {
   "cell_type": "code",
   "execution_count": 17,
   "id": "ab90a9e2",
   "metadata": {},
   "outputs": [
    {
     "data": {
      "text/plain": [
       "array([[7, 7],\n",
       "       [7, 7]])"
      ]
     },
     "execution_count": 17,
     "metadata": {},
     "output_type": "execute_result"
    }
   ],
   "source": [
    "full=np.full((2,2),7)\n",
    "full"
   ]
  },
  {
   "cell_type": "code",
   "execution_count": 18,
   "id": "6dce5137",
   "metadata": {},
   "outputs": [
    {
     "data": {
      "text/plain": [
       "array([[0.67918072, 0.16102722, 0.73423813],\n",
       "       [0.23247066, 0.25322327, 0.26943323]])"
      ]
     },
     "execution_count": 18,
     "metadata": {},
     "output_type": "execute_result"
    }
   ],
   "source": [
    "random=np.random.random((2,3))\n",
    "random"
   ]
  },
  {
   "cell_type": "code",
   "execution_count": 19,
   "id": "ddc8124f",
   "metadata": {},
   "outputs": [
    {
     "data": {
      "text/plain": [
       "array([0, 2, 4, 6, 8])"
      ]
     },
     "execution_count": 19,
     "metadata": {},
     "output_type": "execute_result"
    }
   ],
   "source": [
    "sequence=np.arange(0,10,2)\n",
    "sequence"
   ]
  },
  {
   "cell_type": "markdown",
   "id": "0cc8a0d4",
   "metadata": {},
   "source": [
    "## Vecto, Matrix and Tensor"
   ]
  },
  {
   "cell_type": "code",
   "execution_count": 20,
   "id": "dedbb3f9",
   "metadata": {},
   "outputs": [
    {
     "data": {
      "text/plain": [
       "array([1, 2, 3])"
      ]
     },
     "execution_count": 20,
     "metadata": {},
     "output_type": "execute_result"
    }
   ],
   "source": [
    "vector=np.array([1,2,3])\n",
    "vector"
   ]
  },
  {
   "cell_type": "code",
   "execution_count": 21,
   "id": "ee87b59d",
   "metadata": {},
   "outputs": [
    {
     "data": {
      "text/plain": [
       "array([[1, 2, 3],\n",
       "       [4, 5, 6]])"
      ]
     },
     "execution_count": 21,
     "metadata": {},
     "output_type": "execute_result"
    }
   ],
   "source": [
    "matrix=np.array([[1,2,3],[4,5,6]])\n",
    "matrix"
   ]
  },
  {
   "cell_type": "code",
   "execution_count": 23,
   "id": "a505252b",
   "metadata": {},
   "outputs": [
    {
     "data": {
      "text/plain": [
       "array([[[ 1,  2,  3],\n",
       "        [ 4,  5,  6]],\n",
       "\n",
       "       [[ 7,  8,  9],\n",
       "        [10, 11, 12]]])"
      ]
     },
     "execution_count": 23,
     "metadata": {},
     "output_type": "execute_result"
    }
   ],
   "source": [
    "tensor=np.array([[[1,2,3],[4,5,6]],[[7,8,9],[10,11,12]]])\n",
    "tensor"
   ]
  },
  {
   "cell_type": "markdown",
   "id": "7195aefd",
   "metadata": {},
   "source": [
    "### Array properties"
   ]
  },
  {
   "cell_type": "code",
   "execution_count": 29,
   "id": "f26a5d89",
   "metadata": {},
   "outputs": [
    {
     "name": "stdout",
     "output_type": "stream",
     "text": [
      "Shape of array:  (2, 3)\n",
      "Dimension of array:  2\n",
      "Size of array:  6\n",
      "Datatype of array:  int64\n"
     ]
    }
   ],
   "source": [
    "arr=np.array([[1,2,3],\n",
    "             [4,5,6]])\n",
    "print(\"Shape of array: \",arr.shape)\n",
    "print(\"Dimension of array: \",arr.ndim)\n",
    "print(\"Size of array: \",arr.size)\n",
    "print(\"Datatype of array: \",arr.dtype)\n"
   ]
  },
  {
   "cell_type": "markdown",
   "id": "97854963",
   "metadata": {},
   "source": [
    "### Array reshaping"
   ]
  },
  {
   "cell_type": "code",
   "execution_count": null,
   "id": "e312027c",
   "metadata": {},
   "outputs": [
    {
     "name": "stdout",
     "output_type": "stream",
     "text": [
      "[ 0  1  2  3  4  5  6  7  8  9 10 11]\n",
      "[ 0  1  2  3  4  5  6  7  8  9 10 11]\n",
      "[ 0  1  2  3  4  5  6  7  8  9 10 11]\n"
     ]
    }
   ],
   "source": [
    "arr1=np.arange(6)\n",
    "arr2=np.arange(12)\n",
    "reshaped=arr2.reshape((3,4))\n",
    "print(arr2)\n",
    "\n",
    "flattened=reshaped.flatten()\n",
    "print(arr2)\n",
    "\n",
    "# returns view(original) instead of copy \n",
    "raveled=reshaped.ravel()\n",
    "print(raveled)\n",
    "\n"
   ]
  },
  {
   "cell_type": "markdown",
   "id": "4fe4fb5e",
   "metadata": {},
   "source": [
    "### Transpose"
   ]
  },
  {
   "cell_type": "code",
   "execution_count": 41,
   "id": "30574a2b",
   "metadata": {},
   "outputs": [
    {
     "name": "stdout",
     "output_type": "stream",
     "text": [
      "[[12 34]\n",
      " [33 78]\n",
      " [ 4 87]\n",
      " [46 90]]\n"
     ]
    }
   ],
   "source": [
    "arr1=np.array([[12,33,4,46],[34,78,87,90]])\n",
    "transposed=arr1.T\n",
    "print(transposed)"
   ]
  }
 ],
 "metadata": {
  "kernelspec": {
   "display_name": "Python 3",
   "language": "python",
   "name": "python3"
  },
  "language_info": {
   "codemirror_mode": {
    "name": "ipython",
    "version": 3
   },
   "file_extension": ".py",
   "mimetype": "text/x-python",
   "name": "python",
   "nbconvert_exporter": "python",
   "pygments_lexer": "ipython3",
   "version": "3.12.4"
  }
 },
 "nbformat": 4,
 "nbformat_minor": 5
}
