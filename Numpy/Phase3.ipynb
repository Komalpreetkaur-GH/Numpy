{
 "cells": [
  {
   "cell_type": "markdown",
   "id": "d3be91f7",
   "metadata": {},
   "source": [
    "## Advance operation with business examples"
   ]
  },
  {
   "cell_type": "code",
   "execution_count": 3,
   "id": "8eb993e2",
   "metadata": {},
   "outputs": [],
   "source": [
    "import numpy as np\n",
    "import matplotlib.pyplot as plt"
   ]
  },
  {
   "cell_type": "code",
   "execution_count": null,
   "id": "7b5dc543",
   "metadata": {},
   "outputs": [
    {
     "name": "stdout",
     "output_type": "stream",
     "text": [
      "************Zomato Sales Analysis ****************\n",
      "Shape of the data (5, 5)\n",
      "\n",
      "Data of first 3 restaurants: \n",
      " [[     1 150000 180000 220000 250000]\n",
      " [     2 120000 140000 160000 190000]\n",
      " [    13 200000 230000 260000 300000]\n",
      " [     4 180000 210000 240000 270000]]\n"
     ]
    }
   ],
   "source": [
    "# Data structure: [restaurant_id, 2021, 2022, 2023, 2024]\n",
    "\n",
    "sales_data = np.array([\n",
    "[1, 150000, 180000, 220000, 250000], # Paradise Biryani\n",
    "[2, 120000, 140000, 160000, 190000], # Beijing Bites\n",
    "[13, 200000, 230000, 260000, 300000], # Pizza Hub\n",
    "[4, 180000, 210000, 240000, 270000], # Burger Point\n",
    "[5, 160000, 185000, 205000, 230000] # Chai Point\n",
    "\n",
    "])\n",
    "\n",
    "print(\"************Zomato Sales Analysis ****************\")\n",
    "print(\"Shape of the data\", sales_data.shape)  \n",
    "\n",
    "print(\"\\nData of first 3 restaurants: \\n\",sales_data[:3])"
   ]
  },
  {
   "cell_type": "code",
   "execution_count": 20,
   "id": "445c814c",
   "metadata": {},
   "outputs": [
    {
     "name": "stdout",
     "output_type": "stream",
     "text": [
      "[     25  810000  945000 1085000 1240000]\n",
      "[ 810000  945000 1085000 1240000]\n",
      "[150000 120000 200000 180000 160000]\n",
      "[200000 230000 260000 300000]\n",
      "[200000. 152500. 247500. 225000. 195000.]\n"
     ]
    }
   ],
   "source": [
    "#total sales per year:\n",
    "\n",
    "print(np.sum(sales_data,axis=0))\n",
    "yearly_total=np.sum(sales_data[:,1:,],axis=0)\n",
    "print(yearly_total)\n",
    "\n",
    "\n",
    "# minimum sales per restraurant\n",
    "\n",
    "min_sales=np.min(sales_data[:,1:],axis=1)\n",
    "print(min_sales)\n",
    "\n",
    "\n",
    "# Maximum sales per year\n",
    "\n",
    "max_sales=np.max(sales_data[:,1:],axis=0)\n",
    "print(max_sales)\n",
    "\n",
    "\n",
    "#Average sale per restaurant\n",
    "\n",
    "\n",
    "avg_sales=np.mean(sales_data[:,1:],axis=1)\n",
    "print(avg_sales)"
   ]
  },
  {
   "cell_type": "code",
   "execution_count": 21,
   "id": "e64eab1e",
   "metadata": {},
   "outputs": [
    {
     "name": "stdout",
     "output_type": "stream",
     "text": [
      "[[150000 330000 550000 800000]\n",
      " [120000 260000 420000 610000]\n",
      " [200000 430000 690000 990000]\n",
      " [180000 390000 630000 900000]\n",
      " [160000 345000 550000 780000]]\n"
     ]
    }
   ],
   "source": [
    "cumsum=np.cumsum(sales_data[:,1:],axis=1)\n",
    "print(cumsum)"
   ]
  },
  {
   "cell_type": "code",
   "execution_count": null,
   "id": "811eb897",
   "metadata": {},
   "outputs": [
    {
     "name": "stdout",
     "output_type": "stream",
     "text": [
      "Vector addition [ 7  9 11 13 15]\n",
      "Vector multiplication [ 6 14 24 36 50]\n",
      "Dot Product:  130\n"
     ]
    }
   ],
   "source": [
    "vector1=np.array([1,2,3,4,5])\n",
    "vector2=np.array([6,7,8,9,10])\n",
    "print(\"Vector addition\", vector1+vector2)\n",
    "print(\"Vector multiplication\", vector1*vector2)\n",
    "print(\"Dot Product: \",np.dot(vector1,vector2))\n",
    "\n"
   ]
  },
  {
   "cell_type": "code",
   "execution_count": 24,
   "id": "1393436d",
   "metadata": {},
   "outputs": [
    {
     "name": "stdout",
     "output_type": "stream",
     "text": [
      "['KOMAL' 'VASU' 'RYLE' 'ATLAS']\n"
     ]
    }
   ],
   "source": [
    "names=np.array([\"Komal\",\"Vasu\",\"Ryle\",\"Atlas\"])   #individually\n",
    "vectorized_upper=np.vectorize(str.upper)\n",
    "print(vectorized_upper(names))\n"
   ]
  },
  {
   "cell_type": "code",
   "execution_count": 25,
   "id": "e275cb38",
   "metadata": {},
   "outputs": [
    {
     "name": "stdout",
     "output_type": "stream",
     "text": [
      "[[12500.         15000.         18333.33333333 20833.33333333]\n",
      " [10000.         11666.66666667 13333.33333333 15833.33333333]\n",
      " [16666.66666667 19166.66666667 21666.66666667 25000.        ]\n",
      " [15000.         17500.         20000.         22500.        ]\n",
      " [13333.33333333 15416.66666667 17083.33333333 19166.66666667]]\n"
     ]
    }
   ],
   "source": [
    "monthly_avg=sales_data[:,1:]/12    #for integer always broadcast\n",
    "print(monthly_avg)"
   ]
  }
 ],
 "metadata": {
  "kernelspec": {
   "display_name": "Python 3",
   "language": "python",
   "name": "python3"
  },
  "language_info": {
   "codemirror_mode": {
    "name": "ipython",
    "version": 3
   },
   "file_extension": ".py",
   "mimetype": "text/x-python",
   "name": "python",
   "nbconvert_exporter": "python",
   "pygments_lexer": "ipython3",
   "version": "3.12.4"
  }
 },
 "nbformat": 4,
 "nbformat_minor": 5
}
