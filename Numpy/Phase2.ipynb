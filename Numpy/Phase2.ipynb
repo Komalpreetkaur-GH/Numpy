{
 "cells": [
  {
   "cell_type": "markdown",
   "id": "bfa592ad",
   "metadata": {},
   "source": [
    "# Numpy Array Operation"
   ]
  },
  {
   "cell_type": "code",
   "execution_count": 5,
   "id": "1058f269",
   "metadata": {},
   "outputs": [],
   "source": [
    "import numpy as np\n"
   ]
  },
  {
   "cell_type": "code",
   "execution_count": 6,
   "id": "c6f0dcbb",
   "metadata": {},
   "outputs": [
    {
     "name": "stdout",
     "output_type": "stream",
     "text": [
      "Basic slicing:  [3 4 5]\n",
      "step slicing:  [3 5]\n",
      "Negative slicing:  [6 7 8]\n"
     ]
    }
   ],
   "source": [
    "arr1=np.array([1,2,3,4,5,6,7,8,9])\n",
    "print(\"Basic slicing: \",arr1[2:5])\n",
    "print(\"step slicing: \",arr1[2:5:2])\n",
    "print(\"Negative slicing: \",arr1[-4:-1])"
   ]
  },
  {
   "cell_type": "code",
   "execution_count": 7,
   "id": "cc1bc7a0",
   "metadata": {},
   "outputs": [
    {
     "name": "stdout",
     "output_type": "stream",
     "text": [
      "Specific element:  3\n",
      "Specific row:  [1 4 7]\n",
      "Specific column:  [1 2 3]\n"
     ]
    }
   ],
   "source": [
    "arr1=np.array([[1,2,3],[4,5,6],[7,8,9]])\n",
    "print(\"Specific element: \",arr1[0][2])\n",
    "print(\"Specific row: \",arr1[:,0])\n",
    "print(\"Specific column: \",arr1[0,:])\n"
   ]
  },
  {
   "cell_type": "markdown",
   "id": "b55c39c7",
   "metadata": {},
   "source": [
    "### Sorting"
   ]
  },
  {
   "cell_type": "code",
   "execution_count": 8,
   "id": "6d5c655a",
   "metadata": {},
   "outputs": [
    {
     "name": "stdout",
     "output_type": "stream",
     "text": [
      "[0 1 1 3 4 5 6 7]\n"
     ]
    }
   ],
   "source": [
    "unsorted_arr=np.array([3,1,4,1,5,6,7,0])\n",
    "\n",
    "sorted_arr=np.sort(unsorted_arr)\n",
    "print(sorted_arr)"
   ]
  },
  {
   "cell_type": "code",
   "execution_count": 9,
   "id": "d3a296dd",
   "metadata": {},
   "outputs": [
    {
     "name": "stdout",
     "output_type": "stream",
     "text": [
      "Sorted 2d array by column:  [[1 0]\n",
      " [1 2]\n",
      " [9 7]]\n",
      "Sorted 2d array by row:  [[1 2]\n",
      " [1 7]\n",
      " [0 9]]\n"
     ]
    }
   ],
   "source": [
    "unsorted_2d=np.array([[1,2],[1,7],[9,0]])\n",
    "print(\"Sorted 2d array by column: \",np.sort(unsorted_2d,axis=0))\n",
    "print(\"Sorted 2d array by row: \",np.sort(unsorted_2d,axis=1))"
   ]
  },
  {
   "cell_type": "markdown",
   "id": "a032304e",
   "metadata": {},
   "source": [
    "## Filter\n"
   ]
  },
  {
   "cell_type": "code",
   "execution_count": 10,
   "id": "62042730",
   "metadata": {},
   "outputs": [
    {
     "name": "stdout",
     "output_type": "stream",
     "text": [
      "Even Numbers:  [2 4 6 8]\n"
     ]
    }
   ],
   "source": [
    "arr1=np.array([1,2,3,4,5,6,7,8,9])\n",
    "even_number=arr1[arr1%2==0]\n",
    "print(\"Even Numbers: \",even_number)"
   ]
  },
  {
   "cell_type": "markdown",
   "id": "faf56a60",
   "metadata": {},
   "source": [
    "### Filter with markdown cell"
   ]
  },
  {
   "cell_type": "code",
   "execution_count": 11,
   "id": "806b0b31",
   "metadata": {},
   "outputs": [
    {
     "name": "stdout",
     "output_type": "stream",
     "text": [
      "Numer greate than five  [6 7 8 9]\n"
     ]
    }
   ],
   "source": [
    "mask=arr1>5   #expression in numpy\n",
    "print(\"Numer greate than five \",arr1[mask])"
   ]
  },
  {
   "cell_type": "markdown",
   "id": "57edb5c5",
   "metadata": {},
   "source": [
    "### Fancy indexing vs np.where"
   ]
  },
  {
   "cell_type": "code",
   "execution_count": 14,
   "id": "d8b90ba5",
   "metadata": {},
   "outputs": [
    {
     "name": "stdout",
     "output_type": "stream",
     "text": [
      "[1 3 5]\n"
     ]
    }
   ],
   "source": [
    "indices=[0,2,4]\n",
    "print(arr1[indices])"
   ]
  },
  {
   "cell_type": "code",
   "execution_count": 16,
   "id": "52cae67d",
   "metadata": {},
   "outputs": [
    {
     "name": "stdout",
     "output_type": "stream",
     "text": [
      "[6 7 8 9]\n"
     ]
    }
   ],
   "source": [
    "where_result=np.where(arr1>5)\n",
    "print(arr1[where_result])"
   ]
  },
  {
   "cell_type": "markdown",
   "id": "046de1b6",
   "metadata": {},
   "source": [
    "### condition array"
   ]
  },
  {
   "cell_type": "code",
   "execution_count": null,
   "id": "2e370b5c",
   "metadata": {},
   "outputs": [
    {
     "name": "stdout",
     "output_type": "stream",
     "text": [
      "[ 1  2  3  4  5 12 14 16 18]\n"
     ]
    }
   ],
   "source": [
    "condition_array=np.where(arr1>5,arr1*2,arr1) #(condition,if,else)\n",
    "print(condition_array)"
   ]
  },
  {
   "cell_type": "markdown",
   "id": "08788ac0",
   "metadata": {},
   "source": [
    "### Adding and removing data\n"
   ]
  },
  {
   "cell_type": "code",
   "execution_count": null,
   "id": "39fe50d5",
   "metadata": {},
   "outputs": [
    {
     "name": "stdout",
     "output_type": "stream",
     "text": [
      "[4 5 6 7 8 9]\n",
      "[11 13 15]\n"
     ]
    }
   ],
   "source": [
    "arr1=np.array([4,5,6])\n",
    "arr2=np.array([7,8,9])\n",
    "combined=np.concat((arr1,arr2)) \n",
    "\n",
    "print(combined)\n",
    "print(arr1+arr2)"
   ]
  },
  {
   "cell_type": "markdown",
   "id": "d4a98c02",
   "metadata": {},
   "source": [
    "##### Array compatibility"
   ]
  },
  {
   "cell_type": "code",
   "execution_count": 21,
   "id": "c3b0b653",
   "metadata": {},
   "outputs": [
    {
     "name": "stdout",
     "output_type": "stream",
     "text": [
      "compatibility shape  True\n"
     ]
    }
   ],
   "source": [
    "a=np.array([1,2,3])\n",
    "b=np.array([4,5,6])\n",
    "c=np.array([7,8,9])\n",
    "# same dimension\n",
    "print(\"compatibility shape \",a.shape==b.shape)"
   ]
  },
  {
   "cell_type": "code",
   "execution_count": 26,
   "id": "572b4b33",
   "metadata": {},
   "outputs": [
    {
     "name": "stdout",
     "output_type": "stream",
     "text": [
      "[[1 2 3]\n",
      " [5 6 7]]\n",
      "[[1 2 3]\n",
      " [5 6 7]\n",
      " [9 1 0]]\n",
      "[[1 2 3 6]\n",
      " [5 6 7 8]]\n"
     ]
    }
   ],
   "source": [
    "original=np.array([[1,2,3],[5,6,7]])\n",
    "new_row=np.array([[9,1,0]])\n",
    "with_new_row=np.vstack((original,new_row))  #adding new row\n",
    "print(original)\n",
    "print(with_new_row)\n",
    "\n",
    "new_column=np.array([[6],[8]])\n",
    "with_new_column=np.hstack((original,new_column))\n",
    "print(with_new_column)"
   ]
  },
  {
   "cell_type": "code",
   "execution_count": null,
   "id": "75cedde0",
   "metadata": {},
   "outputs": [
    {
     "name": "stdout",
     "output_type": "stream",
     "text": [
      "[1 2 4 5 6]\n"
     ]
    }
   ],
   "source": [
    "a=np.array([1,2,3,4,5,6])\n",
    "deleted=np.delete(a,2)   #return array after deletion\n",
    "print(deleted)"
   ]
  }
 ],
 "metadata": {
  "kernelspec": {
   "display_name": "Python 3",
   "language": "python",
   "name": "python3"
  },
  "language_info": {
   "codemirror_mode": {
    "name": "ipython",
    "version": 3
   },
   "file_extension": ".py",
   "mimetype": "text/x-python",
   "name": "python",
   "nbconvert_exporter": "python",
   "pygments_lexer": "ipython3",
   "version": "3.12.4"
  }
 },
 "nbformat": 4,
 "nbformat_minor": 5
}
